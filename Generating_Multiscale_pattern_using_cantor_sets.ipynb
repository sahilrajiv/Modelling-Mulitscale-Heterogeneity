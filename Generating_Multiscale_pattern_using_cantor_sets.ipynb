{
  "nbformat": 4,
  "nbformat_minor": 0,
  "metadata": {
    "kernelspec": {
      "display_name": "Python 3",
      "language": "python",
      "name": "python3"
    },
    "language_info": {
      "codemirror_mode": {
        "name": "ipython",
        "version": 3
      },
      "file_extension": ".py",
      "mimetype": "text/x-python",
      "name": "python",
      "nbconvert_exporter": "python",
      "pygments_lexer": "ipython3",
      "version": "3.8.3"
    },
    "colab": {
      "name": "Generating Multiscale pattern using cantor sets.ipynb",
      "provenance": [],
      "collapsed_sections": [],
      "include_colab_link": true
    }
  },
  "cells": [
    {
      "cell_type": "markdown",
      "metadata": {
        "id": "view-in-github",
        "colab_type": "text"
      },
      "source": [
        "<a href=\"https://colab.research.google.com/github/sahilrajiv/Modelling-Mulitscale-Heterogeneity/blob/main/Generating_Multiscale_pattern_using_cantor_sets.ipynb\" target=\"_parent\"><img src=\"https://colab.research.google.com/assets/colab-badge.svg\" alt=\"Open In Colab\"/></a>"
      ]
    },
    {
      "cell_type": "markdown",
      "metadata": {
        "id": "W4yUFGbWMAiq"
      },
      "source": [
        "# Generating Multiscale patten using Cantor sets\n",
        "\n",
        "You'll have to enter the side length in `sleng,` and number of densities required in `no_of_densities` variables. The algorithm will figure out the position of sites to be occupied. After you've run all the cells, the required data will be saved in the `data.json` file. Instructions of using the data file are attached in the [Loading data and examples notebook](https://drive.google.com/file/d/1jYDwxrg_NXhT30lRu73S6n4Nh-ZRBMyl/view?usp=sharing).\n",
        "\n",
        "If you've run into any issues or you've any queries regarding the code, please reach out to me at sahilrajivshahi@gmail.com.\n",
        "\n",
        "Thanks!"
      ]
    },
    {
      "cell_type": "code",
      "metadata": {
        "colab": {
          "base_uri": "https://localhost:8080/"
        },
        "id": "ojkvY-63JbJm",
        "outputId": "c653a766-9476-4e7d-875d-bfaac39e24e5"
      },
      "source": [
        "%pprint\n",
        "get_ipython().run_line_magic('matplotlib', 'notebook')"
      ],
      "execution_count": null,
      "outputs": [
        {
          "output_type": "stream",
          "text": [
            "Pretty printing has been turned OFF\n"
          ],
          "name": "stdout"
        }
      ]
    },
    {
      "cell_type": "code",
      "metadata": {
        "id": "Yo2mpyQMJbJv"
      },
      "source": [
        "import numpy as np\n",
        "import matplotlib.pyplot as plt\n",
        "from functools import reduce\n",
        "from collections import defaultdict\n",
        "import time\n",
        "import math as m\n",
        "import itertools\n",
        "from copy import copy"
      ],
      "execution_count": null,
      "outputs": []
    },
    {
      "cell_type": "markdown",
      "metadata": {
        "id": "1RI9ZprCJbJv"
      },
      "source": [
        "### `sleng` is the side length of the lattice"
      ]
    },
    {
      "cell_type": "code",
      "metadata": {
        "id": "dV2rzQ0GJbJw"
      },
      "source": [
        "sleng=1000"
      ],
      "execution_count": null,
      "outputs": []
    },
    {
      "cell_type": "markdown",
      "metadata": {
        "id": "QdjJ2RK5JbJw"
      },
      "source": [
        "## Generating the template"
      ]
    },
    {
      "cell_type": "code",
      "metadata": {
        "id": "nXVDM1B9JbJw"
      },
      "source": [
        "gamma=3\n",
        "no_of_scales= int(m.log(sleng)/m.log(gamma))\n",
        "\n",
        "def cantor(side_len):\n",
        "    ls=[(0,side_len)]\n",
        "    fraction = lambda interval: (interval[1]-interval[0])/gamma\n",
        "    gap=lambda frac: (frac/3)\n",
        "    while True:\n",
        "        yield ls\n",
        "        ls = [[(k[0]+gap(fraction(k)),k[0]+gap(fraction(k))+fraction(k)), (k[0]+gap(fraction(k))+fraction(k)+gap(fraction(k)),k[1]-gap(fraction(k)))] for k in  ls]\n",
        "        ls = reduce(lambda x,y:x+y,ls)\n",
        "        \n",
        "\n",
        "gen_cantor = cantor(sleng)\n",
        "\n",
        "levels=dict()\n",
        "for i in range(no_of_scales):\n",
        "    levels[i]=next(gen_cantor)\n",
        "\n",
        "scales=defaultdict(list) #dict of cantor lengths\n",
        "gap=dict() #dict containing the gap produced at each scale\n",
        "side=dict() #dict containing the side length of each scale\n",
        "\n",
        "'''function to obtain the coordinate points from the cantor set'''\n",
        "def cantor_to_axis():\n",
        "    for scale in levels.keys():\n",
        "        for l in levels.get(scale):\n",
        "            a=np.arange(int(l[0]),int(l[1]+1))\n",
        "            if a[0]<l[0]:\n",
        "                a[0]=l[0]\n",
        "            if a[-1]<l[1]:\n",
        "                a[-1]=l[1]\n",
        "            scales[scale].append(a) \n",
        "#         if scale>0:         <---------------uncomment this if you don't mind the decimal lenghts at the innermost scale\n",
        "        gap[scale]=((l[1]-l[0])/3)\n",
        "        side[scale]=((l[1]-l[0]+1)*4)\n",
        "\n",
        "cantor_to_axis()\n",
        "\n",
        "og_pts=defaultdict(dict)  #dictionary of points containing the original template\n",
        "\n",
        "colors=itertools.cycle([\"red\",\"blue\"]) \n",
        "\n",
        "'''The following function generates the original template shape on a coordinate plane'''\n",
        "def make_shape():\n",
        "    for s in scales.keys():\n",
        "        a=0 \n",
        "        clr=next(colors)\n",
        "        if not s==list(scales.keys())[-1]:\n",
        "            for i in range(len(scales[s])):\n",
        "                for j in range(len(scales[s])):\n",
        "                        a=a+1\n",
        "                        tmp=dict()\n",
        "                        # plt.plot(scales[s][i], scales[s][j][0]*np.ones(len(scales[s][i])), color='r') #bottom\n",
        "                        # plt.plot(scales[s][j],(scales[s][i][-1]*np.ones(len(scales[s][j]))), color='r') #top\n",
        "                        # plt.plot((scales[s][i][-1]*np.ones(len(scales[s][j]))),scales[s][j], color='r') #right\n",
        "                        # plt.plot(scales[s][j][0]*np.ones(len(scales[s][i])),scales[s][i] , color='r') #left\n",
        "                        tmp[0]=scales[s][i], scales[s][j][0]*np.ones(len(scales[s][i])) #bottom\n",
        "                        tmp[1]=scales[s][j],(scales[s][i][-1]*np.ones(len(scales[s][j]))) #top\n",
        "                        tmp[2]=scales[s][i][-1]*np.ones(len(scales[s][j])),scales[s][j] #right\n",
        "                        tmp[3]=scales[s][j][0]*np.ones(len(scales[s][i])),scales[s][i] #left\n",
        "                        og_pts[s][a]=tmp\n",
        "                        \n",
        "#         '''the following fills up the space in the last scale'''            \n",
        "        else:\n",
        "            for i in scales.get(s):\n",
        "                for j in scales.get(s):\n",
        "                    a=a+1\n",
        "                    tmp=dict()\n",
        "                    b=0\n",
        "                    for p in i:\n",
        "                        b=b+1\n",
        "#                         plt.plot(j,p*np.ones(len(j)),color='r')\n",
        "                        tmp[b]=j,p*np.ones(len(j)) \n",
        "                    og_pts[s][a]=tmp    \n",
        "    # plt.axis('off')\n",
        "    # plt.tight_layout()\n",
        "    # plt.show()\n",
        "    # plt.axis('equal')\n",
        "\n",
        "make_shape()\n",
        "           \n",
        "'''The template points are in the og_points dictionary'''\n",
        "\n",
        "og_total=list() #list of total no of points in the original scale, ordered by scales\n",
        "shape_count=list() #list of total no of  squares in a scale [list index 0 corrosponds to scale 1]\n",
        "\n",
        "'''Loop below will return the total points present in the original template'''\n",
        "for s in og_pts.keys():\n",
        "    if s==0:\n",
        "        continue\n",
        "    shape_count.append(len(og_pts[s]))\n",
        "    e=[]\n",
        "    for n in og_pts[s]:  \n",
        "        for k in og_pts[s][n]:\n",
        "            a=int(len(og_pts[s][n][k][1]))\n",
        "            e.append(a)\n",
        "    og_total.append(sum(e))\n",
        "\n"
      ],
      "execution_count": null,
      "outputs": []
    },
    {
      "cell_type": "markdown",
      "metadata": {
        "id": "72-q0JmuJbJx"
      },
      "source": [
        "## Obtaining the maximum density"
      ]
    },
    {
      "cell_type": "code",
      "metadata": {
        "id": "tMTdkV5fJbJx"
      },
      "source": [
        "scales1=scales \n",
        "incr_scales=defaultdict(dict)\n",
        "\n",
        "'''this function increases the side length of orginal lengths, one at a time. It is required to do so because\n",
        "    we are increasing the density by filling the outer adjacent lattice sites.'''\n",
        "def functionf(itera):\n",
        "    m=itera #this variable says how much do we increase the side length\n",
        "    d3=defaultdict(list)\n",
        "    for k in scales1.keys():\n",
        "        if k==0:\n",
        "            continue    \n",
        "        else:\n",
        "            ls=[]\n",
        "            gap[k]=gap[k]-2 #change this for increasing the gap between two of a given scale\n",
        "            if gap[k]>2:\n",
        "                for l in scales1.get(k):\n",
        "                    temp1=np.insert(l,0,l[0]-1)\n",
        "                    temp1=np.append(temp1,l[-1]+1)\n",
        "                    ls.append(copy(temp1))\n",
        "                    scales1[k]=(ls)\n",
        "                    d3[k].append(copy(temp1))\n",
        "          \n",
        "    incr_scales[m]=(d3)\n",
        "\n",
        "\"\"\"running the functionf such that all the points in between two shapes of \n",
        "    original template are covered and the gap between them is of one lattice length\"\"\"\n",
        "for kk in range(1, (int((gap[1]-2)/2)+1)):\n",
        "    functionf(kk)\n",
        "\n",
        "\n",
        "'''dictionary of all the points after increasing density'''\n",
        "maxm_pts=defaultdict(dict) \n",
        "\n",
        "temp=copy(og_pts)\n",
        "del temp[0]\n",
        "maxm_pts[0]=temp\n",
        "\n",
        "'''getting the increased density points'''\n",
        "def inc_density():\n",
        "    for l,m in incr_scales.items():\n",
        "        s_co_1=defaultdict(dict)\n",
        "        for k,v in m.items():\n",
        "            a=0\n",
        "            for i in v:\n",
        "                for j in v:\n",
        "                    tmp=dict()\n",
        "                    a=a+1\n",
        "#                     plt.plot(i,j[0]*np.ones(len(i)),color='r')\n",
        "#                     plt.plot(j[0]*np.ones(len(i)),i,color='r')\n",
        "#                     plt.plot(i[-1]*np.ones(len(j)),j,color='r')\n",
        "#                     plt.plot(j,i[-1]*np.ones(len(j)),color='r')\n",
        "\n",
        "                    tmp[0]=i,j[0]*np.ones(len(i))\n",
        "                    tmp[1]=j[0]*np.ones(len(i)),i\n",
        "                    tmp[2]=i[-1]*np.ones(len(j)),j\n",
        "                    tmp[3]=j,i[-1]*np.ones(len(j))\n",
        "                    s_co_1[k][a]=tmp\n",
        "        maxm_pts[l]=s_co_1\n",
        "\n",
        "\n",
        "inc_density()\n",
        "\n"
      ],
      "execution_count": null,
      "outputs": []
    },
    {
      "cell_type": "markdown",
      "metadata": {
        "id": "-f3x2ZzWJbJy"
      },
      "source": [
        "The `maxm_pts` dictionary has the following structure.\n",
        "\n",
        "`side len ---> scale ---> shape number --> side ---> arrays of points making that side `\n",
        "\n",
        "`side len` is the distance away from the base template.\n",
        "\n",
        "`scale` is the particular scale.\n",
        "\n",
        "`shape number` has been assigned to structure the total number of shapes in a scale. it starts from 1.\n",
        "\n",
        "`side` the left, right, top and bottom lines. \n"
      ]
    },
    {
      "cell_type": "markdown",
      "metadata": {
        "id": "2sIOZhY9JbJz"
      },
      "source": [
        "## Function to get the total number of points\n",
        "`pointscount` function  returns a tuple containing the total points in each `side len` level, total points in each scale ordered by delta or `side len` level."
      ]
    },
    {
      "cell_type": "code",
      "metadata": {
        "id": "zch9rj3mJbJz"
      },
      "source": [
        "def points_count(pts_list):   \n",
        "    scalepts_by_delta={}\n",
        "    tpts_by_delta={} \n",
        "    for k,v in pts_list.items():\n",
        "        a=[]\n",
        "        for delta,t in v.items(): \n",
        "            tmp=[]\n",
        "            for no,n in t.items():\n",
        "                for side,f in n.items():\n",
        "                    tmp.append(len(f[1]))\n",
        "            a.append(sum(tmp))\n",
        "        scalepts_by_delta[k]=(a)   \n",
        "    for k,v in scalepts_by_delta.items():\n",
        "        tpts_by_delta[k]=(sum(v))\n",
        "    maxmpts_sum=sum(tpts_by_delta.values()) \n",
        "    return (tpts_by_delta,scalepts_by_delta,maxmpts_sum) #total points of each side length, scales plotted in a side len, total pts sum\n",
        "        \n",
        "maximum_points_list=points_count(maxm_pts)\n",
        "maxm_totalpts=points_count(maxm_pts)[-1]"
      ],
      "execution_count": null,
      "outputs": []
    },
    {
      "cell_type": "markdown",
      "metadata": {
        "id": "zBnM4nTTJbJz"
      },
      "source": [
        "## To generate points for new densities\n",
        "`newdensity` function returns the dictionary which contains all the points which are present in a new density."
      ]
    },
    {
      "cell_type": "code",
      "metadata": {
        "colab": {
          "base_uri": "https://localhost:8080/"
        },
        "id": "qmeBbSJQJbJz",
        "outputId": "ffa06be8-924d-4b27-901c-0e5fcc413257"
      },
      "source": [
        "no_of_densities=5\n",
        "density_list=[int(x) for x in list(np.linspace(sum(og_total),maxm_totalpts,no_of_densities+1,endpoint=True))][:-1]  \n",
        "density_list"
      ],
      "execution_count": null,
      "outputs": [
        {
          "output_type": "execute_result",
          "data": {
            "text/plain": [
              "[64032, 173926, 283820, 393715, 503609]"
            ]
          },
          "metadata": {},
          "execution_count": 7
        }
      ]
    },
    {
      "cell_type": "code",
      "metadata": {
        "id": "b7QnIrZ-JbJ0"
      },
      "source": [
        "'''to run the following function make sure that the maximising function has been iterated'''\n",
        "\n",
        "def newdensity(density):\n",
        "    diff=density\n",
        "    diff_list={}\n",
        "    pts_dict={} \n",
        "    for l,h in maximum_points_list[1].items():\n",
        "            if diff>0:\n",
        "                diff=diff-sum(h)\n",
        "                diff_list[l]=abs(diff)\n",
        "            else:\n",
        "                break\n",
        "    least_diff_at=sorted(diff_list.items(), key=lambda item: item[1])[0]\n",
        "    for key,value in maxm_pts.items():\n",
        "        if key <=least_diff_at[0]:\n",
        "            pts_dict[key]=value\n",
        "    return pts_dict \n",
        "\n",
        "sparse_pts={} #dictionary of points keyed with density\n",
        "for each in density_list:\n",
        "    sparse_pts[each]=(newdensity(each))"
      ],
      "execution_count": null,
      "outputs": []
    },
    {
      "cell_type": "markdown",
      "metadata": {
        "id": "vug8Gd58JbJ0"
      },
      "source": [
        "# Obtaining other Scales"
      ]
    },
    {
      "cell_type": "code",
      "metadata": {
        "id": "3nrX1WzJJbJ0"
      },
      "source": [
        "\n",
        "'''rescaling is done in two sections. the rescale_part1 function generates new scales but\n",
        "to get the points with least difference from the required density, we need to accept the\n",
        "value which is most close to the required density.'''\n",
        "\n",
        "def rescale_part1(pts_list,size_merged=0):\n",
        "    merged_scale=[] \n",
        "    req_l={} #dictionary of points in final\n",
        "    h={}\n",
        "    #seperating the points to keep and the points to be assimalated together.\n",
        "    for l,scales_dict in pts_list.items():\n",
        "        if len(scales_dict)>=scales_req:\n",
        "            tmpp={}\n",
        "            for s,p in scales_dict.items():\n",
        "                if s<scales_req:\n",
        "                    tmpp[s]=p\n",
        "                elif s==scales_req: \n",
        "                    merged_scale.append(p)\n",
        "            req_l[l]=tmpp\n",
        "        else:\n",
        "            req_l[l]=scales_dict\n",
        "# the code to merge the points of the deepest level \n",
        "# a is the list of points containing at the scale n \n",
        "    for e,f in merged_scale[size_merged].items():\n",
        "        k=0\n",
        "        vv={}\n",
        "        for b in f[2][1]:\n",
        "            try:\n",
        "                k=k+1\n",
        "                vv[k]=f[0][0],b*np.ones(len((f[0][0])))\n",
        "            except:\n",
        "                pass\n",
        "        h[e]=vv\n",
        "    req_l[0][scales_req]=h\n",
        "    return req_l,merged_scale\n",
        "\n",
        "def rescale(pts_list):\n",
        "    maxim_pts=points_count(pts_list)[-1]\n",
        "    merged_scale=rescale_part1(pts_list)[-1]\n",
        "    find_least,alr={},{}\n",
        "    for each in range(len(merged_scale)):\n",
        "        find_least[each]=rescale_part1(pts_list,each)[0]\n",
        "        alr[each]=abs(maxim_pts-points_count(find_least[each])[-1])\n",
        "    least_diff_at=sorted(alr.items(), key=lambda item: item[1])[0]\n",
        "    return find_least[least_diff_at[0]]\n",
        "\n",
        "\n",
        "'''rescaled this dictionary contains all the points of all the scales for all the densities'''\n",
        "rescaled={}\n",
        "for density, points in sparse_pts.items():\n",
        "    temp={}\n",
        "    for each in range(1,no_of_scales-1):\n",
        "        scales_req=each\n",
        "        temp[each]=rescale(points)\n",
        "\n",
        "\n",
        "    rescaled[density]=temp\n",
        "\n",
        "for each in density_list:\n",
        "    rescaled[each][no_of_scales-1]=sparse_pts[each]\n",
        "\n"
      ],
      "execution_count": null,
      "outputs": []
    },
    {
      "cell_type": "markdown",
      "metadata": {
        "id": "deHPxmAxJbJ1"
      },
      "source": [
        "## Prettifying data and saving in JSON format"
      ]
    },
    {
      "cell_type": "code",
      "metadata": {
        "id": "Nj3t2--HJbJ1"
      },
      "source": [
        "\n",
        "final_data=defaultdict(dict)\n",
        "'''this function converts numpy to json suitable format'''\n",
        "def z(array):\n",
        "    temp=[]\n",
        "    for x in array:\n",
        "        temp.append(int(x))\n",
        "    return temp\n",
        "'''This function prettifies the data which we want in a more compact format'''\n",
        "for density, value in rescaled.items():\n",
        "    for scale_wanted, data in value.items():\n",
        "        tmp=[]\n",
        "        for delta, no_list in data.items():\n",
        "            for n, side_list in no_list.items():\n",
        "                for side, points_list in side_list.items():\n",
        "                    for points in points_list.values():\n",
        "                        tmp.append(((z(points[0])),z(points[1])))\n",
        "                        \n",
        "                    final_data[density][scale_wanted]=tmp\n",
        "\n",
        "\n",
        "'''Saving the data file'''\n",
        "import json\n",
        "with open('data.json', 'w') as json_file:\n",
        "    json.dump(final_data, json_file)"
      ],
      "execution_count": null,
      "outputs": []
    },
    {
      "cell_type": "markdown",
      "metadata": {
        "id": "ge8xVl7SJbJ1"
      },
      "source": [
        "### Example:\n",
        "\n",
        "to plot the 5 scales of density `64032`, do the following"
      ]
    },
    {
      "cell_type": "code",
      "metadata": {
        "colab": {
          "base_uri": "https://localhost:8080/",
          "height": 562
        },
        "id": "MDe7PXMyJbJ2",
        "outputId": "58e375d4-3a60-4e93-c66c-2b284238de45"
      },
      "source": [
        "for each in final_data[64032][5]:\n",
        "    plt.plot(each[0],each[1], 'r')\n",
        "            \n",
        "plt.axis('off')\n",
        "plt.tight_layout()\n",
        "plt.show()\n",
        "plt.axis('equal')           "
      ],
      "execution_count": null,
      "outputs": [
        {
          "output_type": "display_data",
          "data": {
            "image/png": "[encoded data removed]",
            "text/plain": [
              "<Figure size 432x288 with 1 Axes>"
            ]
          },
          "metadata": {
            "needs_background": "light"
          }
        },
        {
          "output_type": "execute_result",
          "data": {
            "text/plain": [
              "(-0.05500000000000001, 0.05500000000000001, -0.05500000000000001, 0.05500000000000001)"
            ]
          },
          "metadata": {},
          "execution_count": 11
        },
        {
          "output_type": "display_data",
          "data": {
            "image/png": "[encoded data removed]",
            "text/plain": [
              "<Figure size 432x288 with 1 Axes>"
            ]
          },
          "metadata": {
            "needs_background": "light"
          }
        }
      ]
    },
    {
      "cell_type": "code",
      "metadata": {
        "id": "N-mWPj0Y2Q_N"
      },
      "source": [
        ""
      ],
      "execution_count": null,
      "outputs": []
    }
  ]
}